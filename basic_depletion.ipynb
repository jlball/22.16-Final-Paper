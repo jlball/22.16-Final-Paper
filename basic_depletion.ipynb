{
 "cells": [
  {
   "cell_type": "markdown",
   "metadata": {},
   "source": [
    "# A Basic ARC Depletion Calculation\n",
    "### *This notebook explores a basic depletion calculation for a compact FLiBe blanketed tokamak whose blanket has been doped with UF4*"
   ]
  },
  {
   "cell_type": "markdown",
   "metadata": {},
   "source": [
    "### *Boilerplate*"
   ]
  },
  {
   "cell_type": "code",
   "execution_count": null,
   "metadata": {},
   "outputs": [
    {
     "ename": "Error",
     "evalue": "Session cannot generate requests",
     "output_type": "error",
     "traceback": [
      "Error: Session cannot generate requests",
      "at S.executeCodeCell (/home/jlball/.vscode/extensions/ms-toolsai.jupyter-2021.10.1101450599/out/client/extension.js:66:301742)",
      "at S.execute (/home/jlball/.vscode/extensions/ms-toolsai.jupyter-2021.10.1101450599/out/client/extension.js:66:300732)",
      "at S.start (/home/jlball/.vscode/extensions/ms-toolsai.jupyter-2021.10.1101450599/out/client/extension.js:66:296408)",
      "at runMicrotasks (<anonymous>)",
      "at processTicksAndRejections (internal/process/task_queues.js:93:5)",
      "at async t.CellExecutionQueue.executeQueuedCells (/home/jlball/.vscode/extensions/ms-toolsai.jupyter-2021.10.1101450599/out/client/extension.js:66:312326)",
      "at async t.CellExecutionQueue.start (/home/jlball/.vscode/extensions/ms-toolsai.jupyter-2021.10.1101450599/out/client/extension.js:66:311862)"
     ]
    }
   ],
   "source": [
    "import openmc\n",
    "import openmc.deplete\n",
    "import openmc.data as data\n",
    "import numpy as np\n",
    "import matplotlib.pyplot as plt\n",
    "\n",
    "from simple_openmc_depletion import create_openmc_model\n",
    "from extract_simple_depletion_results import plot_results"
   ]
  },
  {
   "cell_type": "markdown",
   "metadata": {},
   "source": [
    "## Step 1: Setup the Transport Operator\n",
    "\n",
    "In order to run a depletion simulation using OpenMC, it is necessary to initialize an object called an operator, which is used to run a transport simulation at a particular point in time when performig a depletion simulation. THis operator object can be though of as a wrapper around an OpenMC model object which allows it to be passed to an integrator object, which is then used to perform the depletion simulation. To do this we first need an OpenMC model which is properly configured. I have placed all of the OpenMC model setup code into a separate python file and placed it all into a function which allows me to expose the parameters that I want to adjust about the model and easily create many versions. This is the `create_openmc_model` function which takes in a percent of the blanket to be fertile material, as well as a DAGMC model. This is a little bit tricky because not any DAGMC model can be used, it has to be one which has the correct components with the correct names which correspond to the materials specified in the \"simple_openmc_depletion.py\" file. Nonetheless this was done to allow for multiple variations on the same model to be interchanged easily as tweaks to the geometry are made."
   ]
  },
  {
   "cell_type": "code",
   "execution_count": null,
   "metadata": {},
   "outputs": [],
   "source": [
    "#Open the DAGMC geometry of choice for the model to pass to the create_openmc_model function\n",
    "dag_univ = openmc.DAGMCUniverse(\"dagmc.h5m\")\n",
    "\n",
    "#Use the create_openmc_model function to create a model with the desired geometry and fertile blanket percent\n",
    "model = create_openmc_model(1, dag_univ, 10, 1000)"
   ]
  },
  {
   "cell_type": "markdown",
   "metadata": {},
   "source": [
    "Next a chain file is needed, which provides the depletion solver with all of the necessary data about decay chains etc. to perform the calculation. The chain file used below is computed using a script in the OpenMC data repository which generates a chain file based on ENDFVII.1 data."
   ]
  },
  {
   "cell_type": "code",
   "execution_count": null,
   "metadata": {},
   "outputs": [],
   "source": [
    "#Open the chain file which contains all of the decay data needed for depletion simulations\n",
    "chain_filename = 'chain_endfb71.xml'\n",
    "chain = openmc.deplete.Chain.from_xml(chain_filename)"
   ]
  },
  {
   "cell_type": "markdown",
   "metadata": {},
   "source": [
    "Now we package everything up into the operator object which we can pass to an integrator:"
   ]
  },
  {
   "cell_type": "code",
   "execution_count": null,
   "metadata": {},
   "outputs": [],
   "source": [
    "#Use this model to create a transport operator for use in a depletion simulation\n",
    "operator = openmc.deplete.Operator(model, chain_filename, normalization_mode='source-rate')"
   ]
  },
  {
   "cell_type": "markdown",
   "metadata": {},
   "source": [
    "## Step 2: Setup and Run the Depletion Calculation\n",
    "\n",
    "We need to specify a list of time steps at which to evaluate the transport operator and perform the simulation, as well as a list of the neutron source rates at that time step. For our purposes we take the source rate to be a constant, which assumes the ARC reactor is operating at full power continuously."
   ]
  },
  {
   "cell_type": "code",
   "execution_count": null,
   "metadata": {},
   "outputs": [],
   "source": [
    "#Set the timesteps and source rates to use for the depletion simulation\n",
    "time_steps = [100*60*60] * 8\n",
    "source_rates = [1.86e20]* 8\n",
    "\n",
    "#Run the depletion simulation using a integration algorithm of choice\n",
    "integrator = openmc.deplete.PredictorIntegrator(\n",
    "    operator=operator, timesteps=time_steps, source_rates=source_rates, \n",
    ")"
   ]
  },
  {
   "cell_type": "markdown",
   "metadata": {},
   "source": [
    "To run the depletion calculation we call the integrate function of the integrate object:"
   ]
  },
  {
   "cell_type": "code",
   "execution_count": null,
   "metadata": {},
   "outputs": [],
   "source": [
    "integrator.integrate()"
   ]
  },
  {
   "cell_type": "markdown",
   "metadata": {},
   "source": [
    "## Step 3: Plot the Results\n",
    "\n",
    "matplotlib is used to visualize data extracted from the simulation. Data can be retrieved from two places: the `depletion_results.h5` file and from the individual statepoint files from each transport simulation. Its in these statepoint files that values from tallies setup in the OpenMC model can be extracted. Start by loading the depletion results file:"
   ]
  },
  {
   "cell_type": "markdown",
   "metadata": {},
   "source": [
    "### Load data from the depletion results and individual statepoint files"
   ]
  },
  {
   "cell_type": "code",
   "execution_count": null,
   "metadata": {},
   "outputs": [],
   "source": [
    "#Load the results from the depletion simulation\n",
    "results = openmc.deplete.ResultsList.from_hdf5(\"depletion_results.h5\")\n",
    "\n",
    "#This is just to get the list of times used in the simulation\n",
    "times, _ = results.get_atoms(\"4\", 'Pu239')\n",
    "times = times /(365 * 24 * 60 * 60) #Convert to years"
   ]
  },
  {
   "cell_type": "markdown",
   "metadata": {},
   "source": [
    "Extract data from individual statepoint files, specifically the TBR and total fission tallies:"
   ]
  },
  {
   "cell_type": "code",
   "execution_count": null,
   "metadata": {},
   "outputs": [],
   "source": [
    "#Extract fission and TBR values from statepoint files\n",
    "tbr_std, tbr_vals, fis_std, fis_vals = np.empty(len(times)), np.empty(len(times)), np.empty(len(times)), np.empty(len(times))\n",
    "for i in range(0, len(times)):\n",
    "    sp = openmc.StatePoint(f'openmc_simulation_n{i}.h5')\n",
    "    \n",
    "    #Extract TBR values and std dev at each step in the simulation\n",
    "    tbr_tally = sp.get_tally(name='tbr')\n",
    "    tbr_vals[i] = tbr_tally.mean\n",
    "    tbr_std[i] = tbr_tally.std_dev\n",
    "\n",
    "    #Extract fission rates and std devs from each transport simulation\n",
    "    fis_tally = sp.get_tally(name='fis')\n",
    "    fis_vals[i] = fis_tally.mean\n",
    "    fis_std[i] = fis_tally.std_dev\n",
    "\n",
    "#Convert fission tally result to power in megawatts: total source rate (Hz) * energy per fission in MeV * joules/MeV * MW/W\n",
    "fis_power = fis_vals * 1.86e20 * 200 * 1.602e-13 * 1e-6 "
   ]
  },
  {
   "cell_type": "markdown",
   "metadata": {},
   "source": [
    "### Helper Functions\n",
    "We can now define a few helper functions which will assist in extracting the data from the depletion results file:"
   ]
  },
  {
   "cell_type": "code",
   "execution_count": null,
   "metadata": {},
   "outputs": [],
   "source": [
    "#Converts number of atoms to kg of that isotope\n",
    "def convert_to_kg(num_atoms, isotope):\n",
    "    moles = num_atoms / (6.022e23) #divide by avogadro number to get in moles\n",
    "    mass = (moles * data.atomic_mass(isotope))*0.001 #in kg (atmoic mass is molar mass in units of g/mol)\n",
    "    return mass\n",
    "\n",
    "#Retrieve the mass of a particular isotope in the blanket\n",
    "def get_mass(isotope):\n",
    "    _, atoms_in = results.get_atoms('4', isotope)\n",
    "    _, atoms_out = results.get_atoms('5', isotope)\n",
    "\n",
    "    mass = convert_to_kg(atoms_in + atoms_out, isotope)\n",
    "    return mass\n",
    "\n",
    "# Go from a fission rate to a fission power\n",
    "def get_fis_power(isotope):\n",
    "    _, fis_rate_in = results.get_reaction_rate(\"4\", isotope, 'fission')\n",
    "    _, fis_rate_out = results.get_reaction_rate(\"5\", isotope, 'fission')\n",
    "    power = (fis_rate_in + fis_rate_out) * 200 * 1.602e-13 * 1e-6 #Covert from rate to MW of power\n",
    "    return power"
   ]
  },
  {
   "cell_type": "markdown",
   "metadata": {},
   "source": [
    "### Plutonium Isotopic Composition in Time\n",
    "\n",
    "Here we can plot how the population of various plutonium isotopes evolves in time. Obviously the most interesting isotope is 239 as this is the primary isotope used for weapons, but the other isotopes can interfere with the usefulness of the plutonium for weapons purposes and can determine the plutonium \"grade\""
   ]
  },
  {
   "cell_type": "markdown",
   "metadata": {},
   "source": [
    "First we create a list of plutonium isotopes we'd like to plot:"
   ]
  },
  {
   "cell_type": "code",
   "execution_count": null,
   "metadata": {},
   "outputs": [],
   "source": [
    "#List of plutonium isotopes whose masses will be plotted\n",
    "plut_isotopes = ['Pu238', 'Pu239', 'Pu240', 'Pu241']"
   ]
  },
  {
   "cell_type": "markdown",
   "metadata": {},
   "source": [
    "Then we iterate over this list and plot the mass of each isotope using the `get_mass` function:"
   ]
  },
  {
   "cell_type": "code",
   "execution_count": null,
   "metadata": {},
   "outputs": [],
   "source": [
    "fig, ax = plt.subplots()\n",
    "fig.set_size_inches(10, 8)\n",
    "\n",
    "#Set matplotlib to use LaTeX\n",
    "plt.rcParams['text.usetex'] = True\n",
    "\n",
    "#Plot of Plutonium Mass\n",
    "for iso in plut_isotopes:\n",
    "    ax.plot(times, get_mass(iso), label=iso)\n",
    "\n",
    "ax.set_title(r'Build up of Plutonium Isotopes in 1 percent Fertile Blanket', fontsize=22)\n",
    "ax.set_ylabel(r'Mass (kg)', fontsize=18)\n",
    "ax.set_xlabel(r'time (years)', fontsize=18)\n",
    "\n",
    "ax.legend()\n",
    "ax.grid()"
   ]
  },
  {
   "cell_type": "markdown",
   "metadata": {},
   "source": [
    "Insert analysis about the above plot here. Not much to say at the moment."
   ]
  },
  {
   "cell_type": "markdown",
   "metadata": {},
   "source": [
    "### Fission Power\n",
    "\n",
    "Plots of fission power in the blanket from various isotopes"
   ]
  },
  {
   "cell_type": "markdown",
   "metadata": {},
   "source": [
    "Begin by specifying a list of isotopes whose fission power we would like to plot:"
   ]
  },
  {
   "cell_type": "code",
   "execution_count": null,
   "metadata": {},
   "outputs": [],
   "source": [
    "#List of fissile isotopes whose fission powers will be plotted\n",
    "fis_isotopes = ['Pu239', 'Pu241', \"U235\", 'U238']"
   ]
  },
  {
   "cell_type": "markdown",
   "metadata": {},
   "source": [
    "Iterate over this list and sequentially plot each one, using the `get_fis_power` function to compute the fission power of each isotope at each timestep."
   ]
  },
  {
   "cell_type": "code",
   "execution_count": null,
   "metadata": {},
   "outputs": [],
   "source": [
    "fig, ax = plt.subplots()\n",
    "fig.set_size_inches(10, 8)\n",
    "\n",
    "#Plot of fission power\n",
    "ax.plot(times, fis_power, label='Total Fission Power')\n",
    "for iso in fis_isotopes:\n",
    "    ax.plot(times, get_fis_power(iso), label=iso)\n",
    "\n",
    "ax.set_title(r'Fission Power of Various Isotopes in 1 percent Fertile Blanket', fontsize=22)\n",
    "ax.set_ylabel(r'Power (MW)', fontsize=18)\n",
    "ax.set_xlabel(r'time (years)', fontsize=18)\n",
    "\n",
    "ax.legend()\n",
    "ax.grid()"
   ]
  }
 ],
 "metadata": {
  "kernelspec": {
   "display_name": "Python 3.9.13 ('arc_neutronics')",
   "language": "python",
   "name": "python3"
  },
  "language_info": {
   "codemirror_mode": {
    "name": "ipython",
    "version": 3
   },
   "file_extension": ".py",
   "mimetype": "text/x-python",
   "name": "python",
   "nbconvert_exporter": "python",
   "pygments_lexer": "ipython3",
   "version": "3.9.13"
  },
  "orig_nbformat": 4,
  "vscode": {
   "interpreter": {
    "hash": "21d43fdb4124ce86605c7b3bffdc7565bd46e39b690e2cc359fb29f4edd33b60"
   }
  }
 },
 "nbformat": 4,
 "nbformat_minor": 2
}
