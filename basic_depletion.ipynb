{
 "cells": [
  {
   "cell_type": "markdown",
   "metadata": {},
   "source": [
    "# Hello and welcome to the notebook\n",
    "## ANother heading\n",
    "### A Third HEading"
   ]
  },
  {
   "cell_type": "code",
   "execution_count": 1,
   "metadata": {},
   "outputs": [],
   "source": [
    "import openmc\n",
    "import openmc.deplete\n",
    "from simple_openmc_depletion import create_openmc_model\n",
    "from extract_simple_depletion_results import plot_results"
   ]
  },
  {
   "cell_type": "markdown",
   "metadata": {},
   "source": [
    "## Step 1: Setup the Transport Operator\n",
    "\n",
    "In order to run a depletion simulation using OpenMC, it is necessary to initialize an object called an operator, which is used to run a transport simulation at a particular point in time when performig a depletion simulation. THis operator object can be though of as a wrapper around an OpenMC model object which allows it to be passed to an integrator object, which is then used to perform the depletion simulation. To do this we first need an OpenMC model which is properly configured. I have placed all of the OpenMC model setup code into a separate python file and placed it all into a function which allows me to expose the parameters that I want to adjust about the model and easily create many versions. This is the \"create_openmc_model\" function which takes in a percent of the blanket to be fertile material, as well as a DAGMC model. This is a little bit tricky because not any DAGMC model can be used, it has to be one which has the correct components with the correct names which correspond to the materials specified in the \"simple_openmc_depletion.py\" file. Nonetheless this was done to allow for multiple variations on the same model to be interchanged easily as tweaks to the geometry are made."
   ]
  },
  {
   "cell_type": "code",
   "execution_count": null,
   "metadata": {},
   "outputs": [],
   "source": []
  }
 ],
 "metadata": {
  "kernelspec": {
   "display_name": "Python 3.9.13 ('arc_neutronics')",
   "language": "python",
   "name": "python3"
  },
  "language_info": {
   "codemirror_mode": {
    "name": "ipython",
    "version": 3
   },
   "file_extension": ".py",
   "mimetype": "text/x-python",
   "name": "python",
   "nbconvert_exporter": "python",
   "pygments_lexer": "ipython3",
   "version": "3.9.13"
  },
  "orig_nbformat": 4,
  "vscode": {
   "interpreter": {
    "hash": "21d43fdb4124ce86605c7b3bffdc7565bd46e39b690e2cc359fb29f4edd33b60"
   }
  }
 },
 "nbformat": 4,
 "nbformat_minor": 2
}
